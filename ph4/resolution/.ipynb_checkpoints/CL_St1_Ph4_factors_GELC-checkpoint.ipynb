{
 "cells": [
  {
   "cell_type": "markdown",
   "id": "810d9f10-ec19-4b09-8f90-e983e460b319",
   "metadata": {},
   "source": [
    "<center>\n",
    "<img src=\"https://laelgelcpublic.s3.sa-east-1.amazonaws.com/lael_50_years_narrow_white.png.no_years.400px_96dpi.png\" width=\"300\" alt=\"LAEL 50 years logo\">\n",
    "<h3>APPLIED LINGUISTICS GRADUATE PROGRAMME (LAEL)</h3>\n",
    "</center>\n",
    "<hr>"
   ]
  },
  {
   "cell_type": "markdown",
   "id": "888c2c96-2fc3-4a1a-995b-c388036a2a15",
   "metadata": {},
   "source": [
    "# Corpus Linguistics - Study 1 - Phase 4 - GELC"
   ]
  },
  {
   "cell_type": "markdown",
   "id": "8330839e-53f8-46de-a40a-c7d080098b1f",
   "metadata": {},
   "source": [
    "This solution parses the document 'loadtable.html' and compiles the document 'factors'."
   ]
  },
  {
   "cell_type": "markdown",
   "id": "a685d8b0-7715-45a6-9489-2d3db9b346c8",
   "metadata": {},
   "source": [
    "## Required Python packages"
   ]
  },
  {
   "cell_type": "markdown",
   "id": "c0e16e73-b1b9-4838-8cce-a29dc300868e",
   "metadata": {},
   "source": [
    "- argparse\n",
    "- beautifulsoup4\n",
    "- lxml\n",
    "- pandas"
   ]
  },
  {
   "cell_type": "markdown",
   "id": "aa922755-c4d6-4008-9aad-d35e33b18ed7",
   "metadata": {},
   "source": [
    "## Importing the required libraries"
   ]
  },
  {
   "cell_type": "code",
   "execution_count": 1,
   "id": "06ebcaf3-5b41-474c-9394-ebc8bec9005f",
   "metadata": {},
   "outputs": [],
   "source": [
    "import pandas as pd\n",
    "from bs4 import BeautifulSoup"
   ]
  },
  {
   "cell_type": "markdown",
   "id": "a7187e64-a827-4d02-9449-6943c052b537",
   "metadata": {},
   "source": [
    "## Defining input variables"
   ]
  },
  {
   "cell_type": "code",
   "execution_count": 2,
   "id": "4877c2ef-df3c-4044-84ae-25615f6bb25f",
   "metadata": {},
   "outputs": [],
   "source": [
    "project = 'group3'\n",
    "loadtable_filepath = f\"./sas/output_{project}/loadtable.html\"\n",
    "output_filepath = './examples/factors'"
   ]
  },
  {
   "cell_type": "markdown",
   "id": "53dc20ea-9839-4af5-b743-35224d16917b",
   "metadata": {},
   "source": [
    "## Web scraping `loadtable.html` and compiling `factors`"
   ]
  },
  {
   "cell_type": "code",
   "execution_count": 3,
   "id": "5c8cdf13-1da4-4a93-89b3-add72f76f026",
   "metadata": {},
   "outputs": [
    {
     "name": "stdout",
     "output_type": "stream",
     "text": [
      "'./examples/factors' file successfully created!\n"
     ]
    }
   ],
   "source": [
    "# Function to transform the subtitle\n",
    "def transform_subtitle(subtitle):\n",
    "    parts = subtitle.split()\n",
    "    return f\"f{parts[1]}{parts[2]}\"\n",
    "\n",
    "# Loading the HTML file\n",
    "with open(loadtable_filepath, 'r', encoding='utf-8') as file:\n",
    "    soup = BeautifulSoup(file, 'lxml')\n",
    "\n",
    "# Finding all <div> tags with class \"branch\" within the <body>\n",
    "body = soup.body\n",
    "tables_data = {}\n",
    "\n",
    "for div_tag in body.find_all('div', class_='branch'):\n",
    "    # Finding the 'systitleandfootercontainer' table within the div\n",
    "    table = div_tag.find('table', class_='systitleandfootercontainer')\n",
    "    if table:\n",
    "        # Getting the title and subtitle\n",
    "        title_tag = table.find('td', class_='c systemtitle')\n",
    "        subtitle_tag = table.find('td', class_='c systemtitle2')\n",
    "        if subtitle_tag:\n",
    "            title = title_tag.get_text(strip=True) if title_tag else 'No Title'\n",
    "            subtitle = subtitle_tag.get_text(strip=True) if subtitle_tag else 'No Subtitle'\n",
    "        else:\n",
    "            title = 'No Title'\n",
    "            subtitle = title_tag.get_text(strip=True) if title_tag else 'No Subtitle'\n",
    "\n",
    "        # Finding the following table within the div\n",
    "        data_table = div_tag.find_next('table', class_='table')\n",
    "        if data_table:\n",
    "            # Creating a DataFrame from the table\n",
    "            rows = data_table.find_all('tr')\n",
    "            data = []\n",
    "            for row in rows:\n",
    "                cols = row.find_all(['th', 'td'])\n",
    "                cols = [col.get_text(strip=True) for col in cols]\n",
    "                data.append(cols)\n",
    "\n",
    "            # Using the first row as the header\n",
    "            df = pd.DataFrame(data[1:], columns=data[0])\n",
    "            tables_data[subtitle] = df\n",
    "\n",
    "# Writing the contents to a text file\n",
    "with open(output_filepath, 'w', encoding='utf-8') as file:\n",
    "    for subtitle, df in tables_data.items():\n",
    "        transformed_subtitle = transform_subtitle(subtitle)\n",
    "        for index, row in df.iterrows():\n",
    "            value = row.iloc[2]  # Assuming the third column contains the required values\n",
    "            if len(row) > 4 and ')' in row.iloc[4]:  # Checking if the DataFrame has 5 columns (as a safeguard) and if the fifth column contains ')'\n",
    "                value += ' (secondary)'\n",
    "            file.write(f\"{transformed_subtitle} {value}\\n\")\n",
    "\n",
    "print(f\"'{output_filepath}' file successfully created!\")"
   ]
  },
  {
   "cell_type": "markdown",
   "id": "eb028cc8-dfdd-4125-82ed-fe7e722970e4",
   "metadata": {},
   "source": [
    "## Adapting the programme for execution in a Bash shell script"
   ]
  },
  {
   "cell_type": "markdown",
   "id": "9a4b9753-082a-4725-bb77-f8b40fa9f118",
   "metadata": {},
   "source": [
    "Make sure you are executing the Bash shell script in a Python environment compliant with the programme's requirements.\n",
    "\n",
    "Usage:\n",
    "\n",
    "```\n",
    "project=group3\n",
    "python extract_factors.py --project $project\n",
    "```"
   ]
  },
  {
   "cell_type": "code",
   "execution_count": null,
   "id": "a0bf53b1-6016-484a-b758-098553bcce01",
   "metadata": {},
   "outputs": [],
   "source": [
    "import argparse\n",
    "import pandas as pd\n",
    "from bs4 import BeautifulSoup\n",
    "\n",
    "def transform_subtitle(subtitle):\n",
    "    parts = subtitle.split()\n",
    "    return f\"f{parts[1]}{parts[2]}\"\n",
    "\n",
    "def parse_html(loadtable_filepath):\n",
    "    with open(loadtable_filepath, 'r', encoding='utf-8') as file:\n",
    "        soup = BeautifulSoup(file, 'lxml')\n",
    "\n",
    "    body = soup.body\n",
    "    tables_data = {}\n",
    "\n",
    "    for div_tag in body.find_all('div', class_='branch'):\n",
    "        table = div_tag.find('table', class_='systitleandfootercontainer')\n",
    "        if table:\n",
    "            title_tag = table.find('td', class_='c systemtitle')\n",
    "            subtitle_tag = table.find('td', class_='c systemtitle2')\n",
    "            if subtitle_tag:\n",
    "                title = title_tag.get_text(strip=True) if title_tag else 'No Title'\n",
    "                subtitle = subtitle_tag.get_text(strip=True) if subtitle_tag else 'No Subtitle'\n",
    "            else:\n",
    "                title = 'No Title'\n",
    "                subtitle = title_tag.get_text(strip=True) if title_tag else 'No Subtitle'\n",
    "\n",
    "            data_table = div_tag.find_next('table', class_='table')\n",
    "            if data_table:\n",
    "                rows = data_table.find_all('tr')\n",
    "                data = []\n",
    "                for row in rows:\n",
    "                    cols = row.find_all(['th', 'td'])\n",
    "                    cols = [col.get_text(strip=True) for col in cols]\n",
    "                    data.append(cols)\n",
    "\n",
    "                df = pd.DataFrame(data[1:], columns=data[0])\n",
    "                tables_data[subtitle] = df\n",
    "\n",
    "    return tables_data\n",
    "\n",
    "def write_to_file(tables_data, output_filepath):\n",
    "    with open(output_filepath, 'w', encoding='utf-8') as file:\n",
    "        for subtitle, df in tables_data.items():\n",
    "            transformed_subtitle = transform_subtitle(subtitle)\n",
    "            for index, row in df.iterrows():\n",
    "                value = row.iloc[2]  # Assuming the third column contains the required values\n",
    "                if len(row) > 4 and ')' in row.iloc[4]:  # Checking if the DataFrame has 5 columns (as a safeguard) and if the fifth column contains ')'\n",
    "                    value += ' (secondary)'\n",
    "                file.write(f\"{transformed_subtitle} {value}\\n\")\n",
    "\n",
    "def main():\n",
    "    parser = argparse.ArgumentParser(description='Extract factors from HTML file')\n",
    "    parser.add_argument('--project', type=str, required=True, help='Project name')\n",
    "    args = parser.parse_args()\n",
    "\n",
    "    project = args.project\n",
    "    loadtable_filepath = f\"./sas/output_{project}/loadtable.html\"\n",
    "    output_filepath = './examples/factors'\n",
    "\n",
    "    tables_data = parse_html(loadtable_filepath)\n",
    "    write_to_file(tables_data, output_filepath)\n",
    "    print(f\"'{output_filepath}' file successfully created!\")\n",
    "\n",
    "if __name__ == \"__main__\":\n",
    "    main()"
   ]
  },
  {
   "cell_type": "code",
   "execution_count": null,
   "id": "23abab6d-2c41-4825-8106-21a1764f2910",
   "metadata": {},
   "outputs": [],
   "source": []
  }
 ],
 "metadata": {
  "kernelspec": {
   "display_name": "Python 3 (ipykernel)",
   "language": "python",
   "name": "python3"
  },
  "language_info": {
   "codemirror_mode": {
    "name": "ipython",
    "version": 3
   },
   "file_extension": ".py",
   "mimetype": "text/x-python",
   "name": "python",
   "nbconvert_exporter": "python",
   "pygments_lexer": "ipython3",
   "version": "3.10.12"
  }
 },
 "nbformat": 4,
 "nbformat_minor": 5
}
